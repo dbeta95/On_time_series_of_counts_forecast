{
 "cells": [
  {
   "cell_type": "markdown",
   "metadata": {},
   "source": [
    "# Poisson Regression with Python\n",
    "\n",
    "The present notebook presents a simulated example of Poisson Regression fitting with reference implementations from sklearn and statsmodels and the approach presented in this work using gradient descent."
   ]
  },
  {
   "cell_type": "code",
   "execution_count": 3,
   "metadata": {},
   "outputs": [],
   "source": [
    "import os\n",
    "import sys\n",
    "import numpy as np\n",
    "import matplotlib.pyplot as plt\n",
    "import statsmodels.api as sm\n",
    "\n",
    "from sklearn.linear_model import PoissonRegressor\n",
    "src_path = os.path.dirname(os.getcwd())\n",
    "sys.path.append(src_path)\n",
    "from PoissonRegression.PoissonRegression import PoissonRegression\n",
    "from sklearn import metrics\n",
    "from numpy.random import poisson, random, randn\n",
    "\n",
    "np.random.seed(0)\n",
    "\n",
    "\n",
    "n = 1000\n",
    "\n",
    "x1 = random(n)\n",
    "x2 = randn(n)\n",
    "\n",
    "X = np.array([x1,x2]).T\n",
    "w = np.array([2, 3])\n",
    "b = np.ones(n)\n",
    "syst = X @ w + b\n",
    "y = poisson(np.exp(syst))"
   ]
  },
  {
   "cell_type": "code",
   "execution_count": 4,
   "metadata": {},
   "outputs": [
    {
     "name": "stdout",
     "output_type": "stream",
     "text": [
      "[1.95229544 2.98436462]\n",
      "1.0671373317072548\n"
     ]
    }
   ],
   "source": [
    "RP_model = PoissonRegressor()\n",
    "RP_model.fit(X,y)\n",
    "print(RP_model.coef_)\n",
    "print(RP_model.intercept_)"
   ]
  },
  {
   "cell_type": "code",
   "execution_count": 17,
   "metadata": {},
   "outputs": [
    {
     "data": {
      "text/plain": [
       "array([1.06713733, 1.95229544, 2.98436462])"
      ]
     },
     "execution_count": 17,
     "metadata": {},
     "output_type": "execute_result"
    }
   ],
   "source": [
    "np.append(RP_model.intercept_, RP_model.coef_)"
   ]
  },
  {
   "cell_type": "code",
   "execution_count": 5,
   "metadata": {},
   "outputs": [
    {
     "name": "stdout",
     "output_type": "stream",
     "text": [
      "[2.0053205  3.00224498]\n",
      "0.9916320301459898\n"
     ]
    }
   ],
   "source": [
    "RP2_model = PoissonRegression()\n",
    "RP2_model.fit(X,y)\n",
    "print(RP2_model.coefs)\n",
    "print(RP2_model.intercept)"
   ]
  },
  {
   "cell_type": "code",
   "execution_count": 6,
   "metadata": {},
   "outputs": [
    {
     "name": "stdout",
     "output_type": "stream",
     "text": [
      "                 Generalized Linear Model Regression Results                  \n",
      "==============================================================================\n",
      "Dep. Variable:                      y   No. Observations:                 1000\n",
      "Model:                            GLM   Df Residuals:                      997\n",
      "Model Family:                 Poisson   Df Model:                            2\n",
      "Link Function:                    Log   Scale:                          1.0000\n",
      "Method:                          IRLS   Log-Likelihood:                -2447.4\n",
      "Date:                Thu, 26 Oct 2023   Deviance:                       914.37\n",
      "Time:                        21:10:56   Pearson chi2:                     933.\n",
      "No. Iterations:                     8   Pseudo R-squ. (CS):              1.000\n",
      "Covariance Type:            nonrobust                                         \n",
      "==============================================================================\n",
      "                 coef    std err          z      P>|z|      [0.025      0.975]\n",
      "------------------------------------------------------------------------------\n",
      "const          0.9926      0.007    149.302      0.000       0.980       1.006\n",
      "x1             2.0051      0.005    399.887      0.000       1.995       2.015\n",
      "x2             3.0018      0.002   1343.939      0.000       2.997       3.006\n",
      "==============================================================================\n"
     ]
    }
   ],
   "source": [
    "X_desing = np.concatenate((np.ones(X.shape[0]).reshape(-1,1), X), axis = 1)\n",
    "RP3_model = sm.GLM(y, X_desing, family=sm.families.Poisson()).fit()\n",
    "print(RP3_model.summary())"
   ]
  },
  {
   "cell_type": "code",
   "execution_count": 7,
   "metadata": {},
   "outputs": [
    {
     "data": {
      "text/plain": [
       "array([0.9925631 , 2.00511927, 3.00175186])"
      ]
     },
     "execution_count": 7,
     "metadata": {},
     "output_type": "execute_result"
    }
   ],
   "source": [
    "RP3_model.params"
   ]
  },
  {
   "cell_type": "code",
   "execution_count": 21,
   "metadata": {},
   "outputs": [],
   "source": [
    "def run_simulation(n:int=1000):\n",
    "    \"\"\"\n",
    "    Function to run a simulation, fit the data\n",
    "    and return the fitted parameters with each method\n",
    "    \"\"\"\n",
    "\n",
    "    x1 = random(n)\n",
    "    x2 = randn(n)\n",
    "\n",
    "    X = np.array([x1,x2]).T\n",
    "    w = np.array([2, 3])\n",
    "    b = np.ones(n)\n",
    "    syst = X @ w + b\n",
    "    y = poisson(np.exp(syst))\n",
    "\n",
    "    RP_model = PoissonRegressor()\n",
    "    RP_model.fit(X,y)\n",
    "    parameters = np.append(RP_model.intercept_, RP_model.coef_)\n",
    "\n",
    "    X_desing = np.concatenate((np.ones(X.shape[0]).reshape(-1,1), X), axis = 1)\n",
    "    RP3_model = sm.GLM(y, X_desing, family=sm.families.Poisson()).fit()\n",
    "    parameters= np.append(parameters, RP3_model.params)\n",
    "\n",
    "    RP3_model = PoissonRegression()\n",
    "    RP3_model.fit(X,y)\n",
    "    parameters = np.append(parameters, np.append(RP3_model.intercept, RP3_model.coefs))\n",
    "\n",
    "    return parameters"
   ]
  },
  {
   "cell_type": "code",
   "execution_count": 56,
   "metadata": {},
   "outputs": [
    {
     "name": "stderr",
     "output_type": "stream",
     "text": [
      "c:\\Users\\User\\Python\\Environments\\tensorflow_3.9\\lib\\site-packages\\sklearn\\linear_model\\_glm\\glm.py:294: ConvergenceWarning: lbfgs failed to converge (status=2):\n",
      "ABNORMAL_TERMINATION_IN_LNSRCH.\n",
      "\n",
      "Increase the number of iterations (max_iter) or scale the data as shown in:\n",
      "    https://scikit-learn.org/stable/modules/preprocessing.html\n",
      "  self.n_iter_ = _check_optimize_result(\"lbfgs\", opt_res)\n"
     ]
    }
   ],
   "source": [
    "sim_results = np.concatenate([run_simulation().reshape(1,-1) for i in range(1000)], axis = 0)"
   ]
  },
  {
   "cell_type": "code",
   "execution_count": 57,
   "metadata": {},
   "outputs": [
    {
     "name": "stdout",
     "output_type": "stream",
     "text": [
      "mean beta0 stimated:  1.083959988192737\n",
      "mean beta1 stimated:  1.9292659573082473\n",
      "mean beta2 stimated:  2.983005609944979\n"
     ]
    }
   ],
   "source": [
    "sklearn_b0 = sim_results[:,0]\n",
    "sklearn_b1 = sim_results[:,1]\n",
    "sklearn_b2 = sim_results[:,2]\n",
    "\n",
    "print(\"mean beta0 stimated: \", np.mean(sklearn_b0))\n",
    "print(\"mean beta1 stimated: \", np.mean(sklearn_b1))\n",
    "print(\"mean beta2 stimated: \", np.mean(sklearn_b2))"
   ]
  },
  {
   "cell_type": "code",
   "execution_count": 58,
   "metadata": {},
   "outputs": [
    {
     "name": "stdout",
     "output_type": "stream",
     "text": [
      "mean beta0 error:  0.08395998819273703\n",
      "mean beta1 error:  -0.07073404269175265\n",
      "mean beta2 error:  -0.016994390055021086\n",
      "beta0 errors sd:  0.03742133129226989\n",
      "beta1 errors sd:  0.02887747520579305\n",
      "beta2 errors sd:  0.012951356128390424\n"
     ]
    }
   ],
   "source": [
    "sklearn_b0_error = sklearn_b0 - 1\n",
    "sklearn_b1_error = sklearn_b1 - 2 \n",
    "sklearn_b2_error = sklearn_b2 - 3\n",
    "\n",
    "print(\"mean beta0 error: \", np.mean(sklearn_b0_error))\n",
    "print(\"mean beta1 error: \", np.mean(sklearn_b1_error))\n",
    "print(\"mean beta2 error: \", np.mean(sklearn_b2_error))\n",
    "print(\"beta0 errors sd: \", np.std(sklearn_b0_error))\n",
    "print(\"beta1 errors sd: \", np.std(sklearn_b1_error))\n",
    "print(\"beta2 errors sd: \", np.std(sklearn_b2_error))"
   ]
  },
  {
   "cell_type": "code",
   "execution_count": 59,
   "metadata": {},
   "outputs": [
    {
     "name": "stdout",
     "output_type": "stream",
     "text": [
      "mean beta0 stimated:  1.0001390846563072\n",
      "mean beta1 stimated:  1.9998112693338599\n",
      "mean beta2 stimated:  2.99996787516512\n"
     ]
    }
   ],
   "source": [
    "statsmodels_b0 = sim_results[:,3]\n",
    "statsmodels_b1 = sim_results[:,4]\n",
    "statsmodels_b2 = sim_results[:,5]\n",
    "\n",
    "print(\"mean beta0 stimated: \", np.mean(statsmodels_b0))\n",
    "print(\"mean beta1 stimated: \", np.mean(statsmodels_b1))\n",
    "print(\"mean beta2 stimated: \", np.mean(statsmodels_b2))"
   ]
  },
  {
   "cell_type": "code",
   "execution_count": 60,
   "metadata": {},
   "outputs": [
    {
     "name": "stdout",
     "output_type": "stream",
     "text": [
      "mean beta0 error:  0.00013908465630713585\n",
      "mean beta1 error:  -0.00018873066614009425\n",
      "mean beta2 error:  -3.2124834879527334e-05\n",
      "beta0 errors sd:  0.006973406021695408\n",
      "beta1 errors sd:  0.005848855864659933\n",
      "beta2 errors sd:  0.0023713353532243756\n"
     ]
    }
   ],
   "source": [
    "statsmodels_b0_error = statsmodels_b0 - 1\n",
    "statsmodels_b1_error = statsmodels_b1 - 2 \n",
    "statsmodels_b2_error = statsmodels_b2 - 3\n",
    "\n",
    "print(\"mean beta0 error: \", np.mean(statsmodels_b0_error))\n",
    "print(\"mean beta1 error: \", np.mean(statsmodels_b1_error))\n",
    "print(\"mean beta2 error: \", np.mean(statsmodels_b2_error))\n",
    "print(\"beta0 errors sd: \", np.std(statsmodels_b0_error))\n",
    "print(\"beta1 errors sd: \", np.std(statsmodels_b1_error))\n",
    "print(\"beta2 errors sd: \", np.std(statsmodels_b2_error))"
   ]
  },
  {
   "cell_type": "code",
   "execution_count": 61,
   "metadata": {},
   "outputs": [
    {
     "name": "stdout",
     "output_type": "stream",
     "text": [
      "mean beta0 stimated:  0.9968154864286021\n",
      "mean beta1 stimated:  2.0006804543890615\n",
      "mean beta2 stimated:  3.0014078883024298\n"
     ]
    }
   ],
   "source": [
    "proposed_module_b0 = sim_results[:,6]\n",
    "proposed_module_b1 = sim_results[:,7]\n",
    "proposed_module_b2 = sim_results[:,8]\n",
    "\n",
    "print(\"mean beta0 stimated: \", np.mean(proposed_module_b0))\n",
    "print(\"mean beta1 stimated: \", np.mean(proposed_module_b1))\n",
    "print(\"mean beta2 stimated: \", np.mean(proposed_module_b2))"
   ]
  },
  {
   "cell_type": "code",
   "execution_count": 62,
   "metadata": {},
   "outputs": [
    {
     "name": "stdout",
     "output_type": "stream",
     "text": [
      "mean beta0 error:  -0.0031845135713978495\n",
      "mean beta1 error:  0.0006804543890616395\n",
      "mean beta2 error:  0.00140788830243\n",
      "beta0 errors sd:  0.011349495069906387\n",
      "beta1 errors sd:  0.007915672751487728\n",
      "beta2 errors sd:  0.004196782840776759\n"
     ]
    }
   ],
   "source": [
    "proposed_module_b0_error = proposed_module_b0 - 1\n",
    "proposed_module_b1_error = proposed_module_b1 - 2 \n",
    "proposed_module_b2_error = proposed_module_b2 - 3\n",
    "\n",
    "print(\"mean beta0 error: \", np.mean(proposed_module_b0_error))\n",
    "print(\"mean beta1 error: \", np.mean(proposed_module_b1_error))\n",
    "print(\"mean beta2 error: \", np.mean(proposed_module_b2_error))\n",
    "print(\"beta0 errors sd: \", np.std(proposed_module_b0_error))\n",
    "print(\"beta1 errors sd: \", np.std(proposed_module_b1_error))\n",
    "print(\"beta2 errors sd: \", np.std(proposed_module_b2_error))"
   ]
  },
  {
   "cell_type": "code",
   "execution_count": 63,
   "metadata": {},
   "outputs": [
    {
     "data": {
      "image/png": "[encoded data removed]",
      "text/plain": [
       "<Figure size 1728x576 with 3 Axes>"
      ]
     },
     "metadata": {
      "needs_background": "light"
     },
     "output_type": "display_data"
    }
   ],
   "source": [
    "fig, (ax1, ax2, ax3) = plt.subplots(1,3, figsize=(24,8))\n",
    "\n",
    "ax1.hist(sklearn_b0_error, label=\"sklearn\", alpha = 0.5)\n",
    "ax1.hist(statsmodels_b0_error, label=\"statmodels\", alpha = 0.5)\n",
    "ax1.hist(proposed_module_b0_error, label=\"proposed module\", alpha = 0.5)\n",
    "ax1.legend()\n",
    "\n",
    "ax2.hist(sklearn_b1_error, label=\"sklearn\", alpha = 0.5)\n",
    "ax2.hist(statsmodels_b1_error, label=\"statmodels\", alpha = 0.5)\n",
    "ax2.hist(proposed_module_b1_error, label=\"proposed module\", alpha = 0.5)\n",
    "ax2.legend()\n",
    "\n",
    "ax3.hist(sklearn_b2_error, label=\"sklearn\", alpha = 0.5)\n",
    "ax3.hist(statsmodels_b2_error, label=\"statmodels\", alpha = 0.5)\n",
    "ax3.hist(proposed_module_b2_error, label=\"proposed module\", alpha = 0.5)\n",
    "ax3.legend()\n",
    "\n",
    "plt.show()"
   ]
  },
  {
   "cell_type": "code",
   "execution_count": null,
   "metadata": {},
   "outputs": [],
   "source": []
  }
 ],
 "metadata": {
  "kernelspec": {
   "display_name": "tensorflow_3.9",
   "language": "python",
   "name": "tensorflow_3.9"
  },
  "language_info": {
   "codemirror_mode": {
    "name": "ipython",
    "version": 3
   },
   "file_extension": ".py",
   "mimetype": "text/x-python",
   "name": "python",
   "nbconvert_exporter": "python",
   "pygments_lexer": "ipython3",
   "version": "3.9.12"
  }
 },
 "nbformat": 4,
 "nbformat_minor": 2
}
