{
 "cells": [
  {
   "cell_type": "markdown",
   "metadata": {},
   "source": [
    "# Poisson Regression with a neural network mindset\n",
    "\n",
    "This notebooks ilustrates the usage of a poisson regression approach as a neural network in comparison to other implementations both from baseline packages as the self proposed one using gradient descent."
   ]
  },
  {
   "cell_type": "markdown",
   "metadata": {},
   "source": [
    "## Simulation data"
   ]
  },
  {
   "cell_type": "markdown",
   "metadata": {},
   "source": [
    "$$y \\sim P(\\lambda)$$\n",
    "\n",
    "$$ \\log{ \\lambda } = \\mathbf{X}\\beta $$\n",
    "\n",
    "where $\\beta = [2,3]^T$ and $X$ is the design matrix given by\n",
    "\n",
    "$$ \\mathbf{X} = \\begin{bmatrix}\n",
    "    1 & X_{11}& X_{12} \\\\\n",
    "    1 & X_{21}& X_{22} \\\\\n",
    "    \\vdots & \\vdots & \\vdots \\\\\n",
    "    1 & X_{n1}& X_{n2} \\\\\n",
    "\\end{bmatrix} $$\n",
    "\n",
    "* $X_1 = [x_{11} \\dots x_{n1}]^T$ from an uniform distribution\n",
    "* $X_2 = [x_{12} \\dots x_{n2}]^T$ from an standard normal distribution"
   ]
  },
  {
   "cell_type": "code",
   "execution_count": 1,
   "metadata": {},
   "outputs": [],
   "source": [
    "import os\n",
    "import sys\n",
    "\n",
    "import numpy as np\n",
    "import statsmodels.api as sm\n",
    "from sklearn.linear_model import PoissonRegressor\n",
    "\n",
    "from numpy.random import poisson, random, randn\n",
    "\n",
    "src_path = os.path.dirname(os.getcwd())\n",
    "sys.path.append(src_path)\n",
    "\n",
    "from PoissonRegression.PoissonRegression import PoissonRegression \n",
    "\n",
    "n = 1000\n",
    "np.random.seed(0)\n",
    "x1 = random(n)\n",
    "x2 = randn(n)\n",
    "\n",
    "X = np.array([x1,x2]).T\n",
    "w = np.array([2, 3])\n",
    "b = np.ones(n)\n",
    "syst = X @ w + b\n",
    "y = poisson(np.exp(syst))"
   ]
  },
  {
   "cell_type": "markdown",
   "metadata": {},
   "source": [
    "## Sklearn"
   ]
  },
  {
   "cell_type": "code",
   "execution_count": 4,
   "metadata": {},
   "outputs": [
    {
     "name": "stdout",
     "output_type": "stream",
     "text": [
      "[1.95229544 2.98436462]\n",
      "1.0671373317072548\n"
     ]
    }
   ],
   "source": [
    "RP_model = PoissonRegressor()\n",
    "RP_model.fit(X,y)\n",
    "print(RP_model.coef_)\n",
    "print(RP_model.intercept_)"
   ]
  },
  {
   "cell_type": "markdown",
   "metadata": {},
   "source": [
    "## Statsmodels"
   ]
  },
  {
   "cell_type": "code",
   "execution_count": 5,
   "metadata": {},
   "outputs": [
    {
     "name": "stdout",
     "output_type": "stream",
     "text": [
      "                 Generalized Linear Model Regression Results                  \n",
      "==============================================================================\n",
      "Dep. Variable:                      y   No. Observations:                 1000\n",
      "Model:                            GLM   Df Residuals:                      997\n",
      "Model Family:                 Poisson   Df Model:                            2\n",
      "Link Function:                    Log   Scale:                          1.0000\n",
      "Method:                          IRLS   Log-Likelihood:                -2447.4\n",
      "Date:                Mon, 24 Jul 2023   Deviance:                       914.37\n",
      "Time:                        22:02:15   Pearson chi2:                     933.\n",
      "No. Iterations:                     8   Pseudo R-squ. (CS):              1.000\n",
      "Covariance Type:            nonrobust                                         \n",
      "==============================================================================\n",
      "                 coef    std err          z      P>|z|      [0.025      0.975]\n",
      "------------------------------------------------------------------------------\n",
      "const          0.9926      0.007    149.302      0.000       0.980       1.006\n",
      "x1             2.0051      0.005    399.887      0.000       1.995       2.015\n",
      "x2             3.0018      0.002   1343.939      0.000       2.997       3.006\n",
      "==============================================================================\n"
     ]
    }
   ],
   "source": [
    "X_desing = np.concatenate((np.ones(X.shape[0]).reshape(-1,1), X), axis = 1)\n",
    "RP3_model = sm.GLM(y, X_desing, family=sm.families.Poisson()).fit()\n",
    "print(RP3_model.summary())"
   ]
  },
  {
   "cell_type": "markdown",
   "metadata": {},
   "source": [
    "## Proposed approach"
   ]
  },
  {
   "cell_type": "code",
   "execution_count": 6,
   "metadata": {},
   "outputs": [
    {
     "name": "stdout",
     "output_type": "stream",
     "text": [
      "[2.0053205  3.00224498]\n",
      "0.9916320301459898\n"
     ]
    }
   ],
   "source": [
    "RP2_model = PoissonRegression()\n",
    "RP2_model.fit(X,y)\n",
    "print(RP2_model.coefs)\n",
    "print(RP2_model.intercept)"
   ]
  },
  {
   "cell_type": "markdown",
   "metadata": {},
   "source": [
    "## Neural network approach"
   ]
  },
  {
   "cell_type": "code",
   "execution_count": 3,
   "metadata": {},
   "outputs": [
    {
     "name": "stdout",
     "output_type": "stream",
     "text": [
      "Model: \"sequential\"\n",
      "_________________________________________________________________\n",
      " Layer (type)                Output Shape              Param #   \n",
      "=================================================================\n",
      " dense (Dense)               (None, 1)                 3         \n",
      "                                                                 \n",
      "=================================================================\n",
      "Total params: 3\n",
      "Trainable params: 3\n",
      "Non-trainable params: 0\n",
      "_________________________________________________________________\n"
     ]
    }
   ],
   "source": [
    "import tensorflow as tf\n",
    "\n",
    "nn_seq_model = tf.keras.models.Sequential([\n",
    "    tf.keras.layers.Dense(1, input_shape=(2,), activation=tf.exp)\n",
    "])\n",
    "\n",
    "nn_seq_model.summary()"
   ]
  },
  {
   "cell_type": "code",
   "execution_count": 4,
   "metadata": {},
   "outputs": [],
   "source": [
    "nn_seq_model.compile(\n",
    "    optimizer='adam',\n",
    "    loss='poisson'\n",
    ")\n",
    "\n",
    "hist = nn_seq_model.fit(\n",
    "    X,y,\n",
    "    batch_size=32,\n",
    "    epochs=1000,\n",
    "    verbose=0\n",
    ")"
   ]
  },
  {
   "cell_type": "code",
   "execution_count": 5,
   "metadata": {},
   "outputs": [
    {
     "data": {
      "image/png": "[encoded data removed]",
      "text/plain": [
       "<Figure size 432x288 with 1 Axes>"
      ]
     },
     "metadata": {
      "needs_background": "light"
     },
     "output_type": "display_data"
    }
   ],
   "source": [
    "import matplotlib.pyplot as plt\n",
    "\n",
    "plt.plot(hist.history['loss'])\n",
    "plt.show()"
   ]
  },
  {
   "cell_type": "code",
   "execution_count": 6,
   "metadata": {},
   "outputs": [
    {
     "data": {
      "text/plain": [
       "[array([[1.9991673],\n",
       "        [2.999284 ]], dtype=float32),\n",
       " array([0.9884352], dtype=float32)]"
      ]
     },
     "execution_count": 6,
     "metadata": {},
     "output_type": "execute_result"
    }
   ],
   "source": [
    "nn_seq_model.get_weights()"
   ]
  },
  {
   "cell_type": "markdown",
   "metadata": {},
   "source": [
    "Next a more complex but less memory expensive and generalizable for future architectures is presented"
   ]
  },
  {
   "cell_type": "markdown",
   "metadata": {},
   "source": [
    "## Batched data generator"
   ]
  },
  {
   "cell_type": "code",
   "execution_count": 2,
   "metadata": {},
   "outputs": [],
   "source": [
    "import tensorflow as tf\n",
    "from PoissonRegression.PoissonRegression import PoissonRegressionSyntheticData, PossionRegressionNN\n",
    "\n",
    "poisson_regression_data = PoissonRegressionSyntheticData(\n",
    "    w=tf.constant([2.,3.]), \n",
    "    b=1.,\n",
    "    num_val=0,\n",
    "    batch_size=32,\n",
    "    seed=0\n",
    ")\n",
    "train_data_loader = poisson_regression_data.training_loader()"
   ]
  },
  {
   "cell_type": "code",
   "execution_count": 7,
   "metadata": {},
   "outputs": [],
   "source": [
    "pr_model = PossionRegressionNN(train_data_loader.element_spec[0].shape.as_list())\n",
    "\n",
    "pr_model.compile(\n",
    "    optimizer = 'adam',\n",
    "    loss = 'poisson'\n",
    ")\n",
    "\n",
    "hist = pr_model.fit(\n",
    "    train_data_loader,\n",
    "    epochs = 1000,\n",
    "    verbose = 0\n",
    ")"
   ]
  },
  {
   "cell_type": "code",
   "execution_count": 8,
   "metadata": {},
   "outputs": [
    {
     "data": {
      "image/png": "[encoded data removed]",
      "text/plain": [
       "<Figure size 432x288 with 1 Axes>"
      ]
     },
     "metadata": {
      "needs_background": "light"
     },
     "output_type": "display_data"
    }
   ],
   "source": [
    "plt.plot(hist.history['loss'])\n",
    "plt.show()"
   ]
  },
  {
   "cell_type": "code",
   "execution_count": 9,
   "metadata": {},
   "outputs": [
    {
     "data": {
      "text/plain": [
       "[array([[2.0013452],\n",
       "        [3.000377 ]], dtype=float32),\n",
       " array([0.9945376], dtype=float32)]"
      ]
     },
     "execution_count": 9,
     "metadata": {},
     "output_type": "execute_result"
    }
   ],
   "source": [
    "pr_model.get_weights()"
   ]
  }
 ],
 "metadata": {
  "kernelspec": {
   "display_name": "tensorflow_3.9",
   "language": "python",
   "name": "tensorflow_3.9"
  },
  "language_info": {
   "codemirror_mode": {
    "name": "ipython",
    "version": 3
   },
   "file_extension": ".py",
   "mimetype": "text/x-python",
   "name": "python",
   "nbconvert_exporter": "python",
   "pygments_lexer": "ipython3",
   "version": "3.9.12"
  },
  "orig_nbformat": 4
 },
 "nbformat": 4,
 "nbformat_minor": 2
}
