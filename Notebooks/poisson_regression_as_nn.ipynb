{
 "cells": [
  {
   "cell_type": "markdown",
   "metadata": {},
   "source": [
    "# Poisson Regression with a neural network mindset\n",
    "\n",
    "This notebooks ilustrates the usage of a poisson regression approach as a neural network in comparison to other implementations both from baseline packages as the self proposed one using gradient descent."
   ]
  },
  {
   "cell_type": "markdown",
   "metadata": {},
   "source": [
    "## Simulation data"
   ]
  },
  {
   "cell_type": "markdown",
   "metadata": {},
   "source": [
    "$$y \\sim P(\\lambda)$$\n",
    "\n",
    "$$ \\log{ \\lambda } = \\mathbf{X}\\beta $$\n",
    "\n",
    "where $\\beta = [2,3]^T$ and $X$ is the design matrix given by\n",
    "\n",
    "$$ \\mathbf{X} = \\begin{bmatrix}\n",
    "    1 & X_{11}& X_{12} \\\\\n",
    "    1 & X_{21}& X_{22} \\\\\n",
    "    \\vdots & \\vdots & \\vdots \\\\\n",
    "    1 & X_{n1}& X_{n2} \\\\\n",
    "\\end{bmatrix} $$\n",
    "\n",
    "* $X_1 = [x_{11} \\dots x_{n1}]^T$ from an uniform distribution\n",
    "* $X_2 = [x_{12} \\dots x_{n2}]^T$ from an standard normal distribution"
   ]
  },
  {
   "cell_type": "code",
   "execution_count": 1,
   "metadata": {},
   "outputs": [],
   "source": [
    "import os\n",
    "import sys\n",
    "\n",
    "import numpy as np\n",
    "import statsmodels.api as sm\n",
    "from sklearn.linear_model import PoissonRegressor\n",
    "\n",
    "from numpy.random import poisson, random, randn\n",
    "\n",
    "src_path = os.path.dirname(os.getcwd())\n",
    "sys.path.append(src_path)\n",
    "\n",
    "from PoissonRegression.PoissonRegression import PoissonRegression \n",
    "\n",
    "n = 1000\n",
    "np.random.seed(0)\n",
    "x1 = random(n)\n",
    "x2 = randn(n)\n",
    "\n",
    "X = np.array([x1,x2]).T\n",
    "w = np.array([2, 3])\n",
    "b = np.ones(n)\n",
    "syst = X @ w + b\n",
    "y = poisson(np.exp(syst))"
   ]
  },
  {
   "cell_type": "markdown",
   "metadata": {},
   "source": [
    "## Sklearn"
   ]
  },
  {
   "cell_type": "code",
   "execution_count": 2,
   "metadata": {},
   "outputs": [
    {
     "name": "stdout",
     "output_type": "stream",
     "text": [
      "[1.95229544 2.98436462]\n",
      "1.0671373317072548\n"
     ]
    }
   ],
   "source": [
    "RP_model = PoissonRegressor()\n",
    "RP_model.fit(X,y)\n",
    "print(RP_model.coef_)\n",
    "print(RP_model.intercept_)"
   ]
  },
  {
   "cell_type": "markdown",
   "metadata": {},
   "source": [
    "## Statsmodels"
   ]
  },
  {
   "cell_type": "code",
   "execution_count": 3,
   "metadata": {},
   "outputs": [
    {
     "name": "stdout",
     "output_type": "stream",
     "text": [
      "                 Generalized Linear Model Regression Results                  \n",
      "==============================================================================\n",
      "Dep. Variable:                      y   No. Observations:                 1000\n",
      "Model:                            GLM   Df Residuals:                      997\n",
      "Model Family:                 Poisson   Df Model:                            2\n",
      "Link Function:                    Log   Scale:                          1.0000\n",
      "Method:                          IRLS   Log-Likelihood:                -2447.4\n",
      "Date:                Sun, 10 Dec 2023   Deviance:                       914.37\n",
      "Time:                        18:21:27   Pearson chi2:                     933.\n",
      "No. Iterations:                     8   Pseudo R-squ. (CS):              1.000\n",
      "Covariance Type:            nonrobust                                         \n",
      "==============================================================================\n",
      "                 coef    std err          z      P>|z|      [0.025      0.975]\n",
      "------------------------------------------------------------------------------\n",
      "const          0.9926      0.007    149.302      0.000       0.980       1.006\n",
      "x1             2.0051      0.005    399.887      0.000       1.995       2.015\n",
      "x2             3.0018      0.002   1343.939      0.000       2.997       3.006\n",
      "==============================================================================\n"
     ]
    }
   ],
   "source": [
    "X_desing = np.concatenate((np.ones(X.shape[0]).reshape(-1,1), X), axis = 1)\n",
    "RP3_model = sm.GLM(y, X_desing, family=sm.families.Poisson()).fit()\n",
    "print(RP3_model.summary())"
   ]
  },
  {
   "cell_type": "markdown",
   "metadata": {},
   "source": [
    "## Proposed approach"
   ]
  },
  {
   "cell_type": "code",
   "execution_count": 4,
   "metadata": {},
   "outputs": [
    {
     "name": "stdout",
     "output_type": "stream",
     "text": [
      "[2.0053205  3.00224498]\n",
      "0.9916320301459898\n"
     ]
    }
   ],
   "source": [
    "RP2_model = PoissonRegression()\n",
    "RP2_model.fit(X,y)\n",
    "print(RP2_model.coefs)\n",
    "print(RP2_model.intercept)"
   ]
  },
  {
   "cell_type": "code",
   "execution_count": 35,
   "metadata": {},
   "outputs": [
    {
     "data": {
      "text/plain": [
       "array([2.0053205 , 3.00224498, 0.99163203])"
      ]
     },
     "execution_count": 35,
     "metadata": {},
     "output_type": "execute_result"
    }
   ],
   "source": [
    "np.append(RP2_model.coefs,RP2_model.intercept)"
   ]
  },
  {
   "cell_type": "markdown",
   "metadata": {},
   "source": [
    "## Neural network approach"
   ]
  },
  {
   "cell_type": "code",
   "execution_count": 25,
   "metadata": {},
   "outputs": [
    {
     "name": "stdout",
     "output_type": "stream",
     "text": [
      "Model: \"sequential_3\"\n",
      "_________________________________________________________________\n",
      " Layer (type)                Output Shape              Param #   \n",
      "=================================================================\n",
      " dense_3 (Dense)             (None, 1)                 3         \n",
      "                                                                 \n",
      "=================================================================\n",
      "Total params: 3\n",
      "Trainable params: 3\n",
      "Non-trainable params: 0\n",
      "_________________________________________________________________\n"
     ]
    }
   ],
   "source": [
    "import tensorflow as tf\n",
    "\n",
    "nn_seq_model = tf.keras.models.Sequential([\n",
    "    tf.keras.layers.Dense(1, input_shape=(2,), activation=tf.exp)\n",
    "])\n",
    "\n",
    "nn_seq_model.summary()"
   ]
  },
  {
   "cell_type": "code",
   "execution_count": 30,
   "metadata": {},
   "outputs": [],
   "source": [
    "nn_seq_model.compile(\n",
    "    optimizer=tf.keras.optimizers.Adam(0.01),\n",
    "    loss='poisson'\n",
    ")\n",
    "\n",
    "hist = nn_seq_model.fit(\n",
    "    X,y,\n",
    "    batch_size=32,\n",
    "    epochs=200,\n",
    "    verbose=0\n",
    ")"
   ]
  },
  {
   "cell_type": "code",
   "execution_count": 31,
   "metadata": {},
   "outputs": [
    {
     "data": {
      "image/png": "[encoded data removed]",
      "text/plain": [
       "<Figure size 432x288 with 1 Axes>"
      ]
     },
     "metadata": {
      "needs_background": "light"
     },
     "output_type": "display_data"
    }
   ],
   "source": [
    "import matplotlib.pyplot as plt\n",
    "\n",
    "plt.plot(hist.history['loss'])\n",
    "plt.show()"
   ]
  },
  {
   "cell_type": "code",
   "execution_count": 32,
   "metadata": {},
   "outputs": [
    {
     "data": {
      "text/plain": [
       "119"
      ]
     },
     "execution_count": 32,
     "metadata": {},
     "output_type": "execute_result"
    }
   ],
   "source": [
    "np.argmin(hist.history['loss'])"
   ]
  },
  {
   "cell_type": "code",
   "execution_count": 39,
   "metadata": {},
   "outputs": [
    {
     "data": {
      "text/plain": [
       "array([0.997088], dtype=float32)"
      ]
     },
     "execution_count": 39,
     "metadata": {},
     "output_type": "execute_result"
    }
   ],
   "source": [
    "nn_seq_model.get_weights()[1]"
   ]
  },
  {
   "cell_type": "code",
   "execution_count": 40,
   "metadata": {},
   "outputs": [
    {
     "data": {
      "text/plain": [
       "array([2.0053205 , 3.00224498, 0.99163203, 2.00386429, 3.00014377,\n",
       "       0.99708802])"
      ]
     },
     "execution_count": 40,
     "metadata": {},
     "output_type": "execute_result"
    }
   ],
   "source": [
    "np.append(np.append(RP2_model.coefs,RP2_model.intercept), np.append(nn_seq_model.get_weights()[0].reshape(1,-1), nn_seq_model.get_weights()[1]))"
   ]
  },
  {
   "cell_type": "markdown",
   "metadata": {},
   "source": [
    "Next a more complex but less memory expensive and generalizable for future architectures is presented"
   ]
  },
  {
   "cell_type": "markdown",
   "metadata": {},
   "source": [
    "## Batched data generator"
   ]
  },
  {
   "cell_type": "code",
   "execution_count": 2,
   "metadata": {},
   "outputs": [],
   "source": [
    "import tensorflow as tf\n",
    "from PoissonRegression.PoissonRegression import PoissonRegressionSyntheticData, PossionRegressionNN\n",
    "\n",
    "poisson_regression_data = PoissonRegressionSyntheticData(\n",
    "    w=tf.constant([2.,3.]), \n",
    "    b=1.,\n",
    "    num_val=0,\n",
    "    batch_size=32,\n",
    "    seed=0\n",
    ")\n",
    "train_data_loader = poisson_regression_data.training_loader()"
   ]
  },
  {
   "cell_type": "code",
   "execution_count": 7,
   "metadata": {},
   "outputs": [],
   "source": [
    "pr_model = PossionRegressionNN(train_data_loader.element_spec[0].shape.as_list())\n",
    "\n",
    "pr_model.compile(\n",
    "    optimizer = 'adam',\n",
    "    loss = 'poisson'\n",
    ")\n",
    "\n",
    "hist = pr_model.fit(\n",
    "    train_data_loader,\n",
    "    epochs = 1000,\n",
    "    verbose = 0\n",
    ")"
   ]
  },
  {
   "cell_type": "code",
   "execution_count": 8,
   "metadata": {},
   "outputs": [
    {
     "data": {
      "image/png": "[encoded data removed]",
      "text/plain": [
       "<Figure size 432x288 with 1 Axes>"
      ]
     },
     "metadata": {
      "needs_background": "light"
     },
     "output_type": "display_data"
    }
   ],
   "source": [
    "plt.plot(hist.history['loss'])\n",
    "plt.show()"
   ]
  },
  {
   "cell_type": "code",
   "execution_count": 9,
   "metadata": {},
   "outputs": [
    {
     "data": {
      "text/plain": [
       "[array([[2.0013452],\n",
       "        [3.000377 ]], dtype=float32),\n",
       " array([0.9945376], dtype=float32)]"
      ]
     },
     "execution_count": 9,
     "metadata": {},
     "output_type": "execute_result"
    }
   ],
   "source": [
    "pr_model.get_weights()"
   ]
  },
  {
   "cell_type": "markdown",
   "metadata": {},
   "source": [
    "## Multiple scenarios analysis\n",
    "\n",
    "Here we simulate multiple times and fit to the simulated data, to campare the mean fitted values for the parameters for each model, and the residuals of the estimations"
   ]
  },
  {
   "cell_type": "code",
   "execution_count": 44,
   "metadata": {},
   "outputs": [],
   "source": [
    "def run_simulation(n:int=1000):\n",
    "    \"\"\"\n",
    "    Function to run a simulation, fit the data\n",
    "    and return the fitted parameters with each method\n",
    "    \"\"\"\n",
    "\n",
    "    x1 = random(n)\n",
    "    x2 = randn(n)\n",
    "\n",
    "    X = np.array([x1,x2]).T\n",
    "    w = np.array([2, 3])\n",
    "    b = np.ones(n)\n",
    "    syst = X @ w + b\n",
    "    y = poisson(np.exp(syst))\n",
    "\n",
    "    RP_model = PoissonRegressor()\n",
    "    RP_model.fit(X,y)\n",
    "    parameters = np.append(RP_model.intercept_, RP_model.coef_)\n",
    "\n",
    "    X_desing = np.concatenate((np.ones(X.shape[0]).reshape(-1,1), X), axis = 1)\n",
    "    RP2_model = sm.GLM(y, X_desing, family=sm.families.Poisson()).fit()\n",
    "    parameters= np.append(parameters, RP2_model.params)\n",
    "\n",
    "    RP3_model = PoissonRegression()\n",
    "    RP3_model.fit(X,y)\n",
    "    parameters = np.append(parameters, np.append(RP3_model.intercept, RP3_model.coefs))\n",
    "\n",
    "    RP4_model = tf.keras.models.Sequential([\n",
    "        tf.keras.layers.Dense(1, input_shape=(2,), activation=tf.exp)\n",
    "    ])\n",
    "    RP4_model.compile(\n",
    "        optimizer=tf.keras.optimizers.Adam(0.01),\n",
    "        loss='poisson'\n",
    "    )\n",
    "    RP4_model.fit(\n",
    "        X,y,\n",
    "        batch_size=32,\n",
    "        epochs=300,\n",
    "        verbose=0\n",
    "    )\n",
    "    parameters = np.append(\n",
    "        parameters, \n",
    "        np.append(RP4_model.get_weights()[1], RP4_model.get_weights()[0].reshape(1,-1))\n",
    "    )    \n",
    "\n",
    "    return parameters"
   ]
  },
  {
   "cell_type": "code",
   "execution_count": 46,
   "metadata": {},
   "outputs": [],
   "source": [
    "sim_results = np.concatenate(\n",
    "    [run_simulation().reshape(1, -1) for _ in range(1000)], axis = 0\n",
    ")"
   ]
  },
  {
   "cell_type": "code",
   "execution_count": 47,
   "metadata": {},
   "outputs": [
    {
     "name": "stdout",
     "output_type": "stream",
     "text": [
      "mean beta0 stimated:  1.0832704357365535\n",
      "mean beta1 stimated:  1.9303004476438306\n",
      "mean beta2 stimated:  2.982990813467288\n"
     ]
    }
   ],
   "source": [
    "sklearn_b0 = sim_results[:,0]\n",
    "sklearn_b1 = sim_results[:,1]\n",
    "sklearn_b2 = sim_results[:,2]\n",
    "\n",
    "print(\"mean beta0 stimated: \", np.mean(sklearn_b0))\n",
    "print(\"mean beta1 stimated: \", np.mean(sklearn_b1))\n",
    "print(\"mean beta2 stimated: \", np.mean(sklearn_b2))"
   ]
  },
  {
   "cell_type": "code",
   "execution_count": 48,
   "metadata": {},
   "outputs": [
    {
     "name": "stdout",
     "output_type": "stream",
     "text": [
      "mean beta0 error:  0.08327043573655363\n",
      "mean beta1 error:  -0.06969955235616968\n",
      "mean beta2 error:  -0.017009186532712193\n",
      "beta0 errors sd:  0.03646777865087278\n",
      "beta1 errors sd:  0.02852794724263913\n",
      "beta2 errors sd:  0.012377592791337046\n"
     ]
    }
   ],
   "source": [
    "sklearn_b0_error = sklearn_b0 - 1\n",
    "sklearn_b1_error = sklearn_b1 - 2 \n",
    "sklearn_b2_error = sklearn_b2 - 3\n",
    "\n",
    "print(\"mean beta0 error: \", np.mean(sklearn_b0_error))\n",
    "print(\"mean beta1 error: \", np.mean(sklearn_b1_error))\n",
    "print(\"mean beta2 error: \", np.mean(sklearn_b2_error))\n",
    "print(\"beta0 errors sd: \", np.std(sklearn_b0_error))\n",
    "print(\"beta1 errors sd: \", np.std(sklearn_b1_error))\n",
    "print(\"beta2 errors sd: \", np.std(sklearn_b2_error))"
   ]
  },
  {
   "cell_type": "code",
   "execution_count": 49,
   "metadata": {},
   "outputs": [
    {
     "name": "stdout",
     "output_type": "stream",
     "text": [
      "mean beta0 stimated:  1.000220380693111\n",
      "mean beta1 stimated:  1.9998760209211397\n",
      "mean beta2 stimated:  2.99990456820966\n"
     ]
    }
   ],
   "source": [
    "statsmodels_b0 = sim_results[:,3]\n",
    "statsmodels_b1 = sim_results[:,4]\n",
    "statsmodels_b2 = sim_results[:,5]\n",
    "\n",
    "print(\"mean beta0 stimated: \", np.mean(statsmodels_b0))\n",
    "print(\"mean beta1 stimated: \", np.mean(statsmodels_b1))\n",
    "print(\"mean beta2 stimated: \", np.mean(statsmodels_b2))"
   ]
  },
  {
   "cell_type": "code",
   "execution_count": 50,
   "metadata": {},
   "outputs": [
    {
     "name": "stdout",
     "output_type": "stream",
     "text": [
      "mean beta0 error:  0.00022038069311102192\n",
      "mean beta1 error:  -0.00012397907886004233\n",
      "mean beta2 error:  -9.543179033932202e-05\n",
      "beta0 errors sd:  0.007011406414701769\n",
      "beta1 errors sd:  0.005693986580258361\n",
      "beta2 errors sd:  0.002282654791936761\n"
     ]
    }
   ],
   "source": [
    "statsmodels_b0_error = statsmodels_b0 - 1\n",
    "statsmodels_b1_error = statsmodels_b1 - 2 \n",
    "statsmodels_b2_error = statsmodels_b2 - 3\n",
    "\n",
    "print(\"mean beta0 error: \", np.mean(statsmodels_b0_error))\n",
    "print(\"mean beta1 error: \", np.mean(statsmodels_b1_error))\n",
    "print(\"mean beta2 error: \", np.mean(statsmodels_b2_error))\n",
    "print(\"beta0 errors sd: \", np.std(statsmodels_b0_error))\n",
    "print(\"beta1 errors sd: \", np.std(statsmodels_b1_error))\n",
    "print(\"beta2 errors sd: \", np.std(statsmodels_b2_error))"
   ]
  },
  {
   "cell_type": "code",
   "execution_count": 51,
   "metadata": {},
   "outputs": [
    {
     "name": "stdout",
     "output_type": "stream",
     "text": [
      "mean beta0 stimated:  0.997009659618766\n",
      "mean beta1 stimated:  2.000447796399969\n",
      "mean beta2 stimated:  3.0013727700300543\n"
     ]
    }
   ],
   "source": [
    "proposed_module_b0 = sim_results[:,6]\n",
    "proposed_module_b1 = sim_results[:,7]\n",
    "proposed_module_b2 = sim_results[:,8]\n",
    "\n",
    "print(\"mean beta0 stimated: \", np.mean(proposed_module_b0))\n",
    "print(\"mean beta1 stimated: \", np.mean(proposed_module_b1))\n",
    "print(\"mean beta2 stimated: \", np.mean(proposed_module_b2))"
   ]
  },
  {
   "cell_type": "code",
   "execution_count": 52,
   "metadata": {},
   "outputs": [
    {
     "name": "stdout",
     "output_type": "stream",
     "text": [
      "mean beta0 error:  -0.002990340381234016\n",
      "mean beta1 error:  0.00044779639996882014\n",
      "mean beta2 error:  0.0013727700300540434\n",
      "beta0 errors sd:  0.010572169251878084\n",
      "beta1 errors sd:  0.009771056645942754\n",
      "beta2 errors sd:  0.004666495849065589\n"
     ]
    }
   ],
   "source": [
    "proposed_module_b0_error = proposed_module_b0 - 1\n",
    "proposed_module_b1_error = proposed_module_b1 - 2 \n",
    "proposed_module_b2_error = proposed_module_b2 - 3\n",
    "\n",
    "print(\"mean beta0 error: \", np.mean(proposed_module_b0_error))\n",
    "print(\"mean beta1 error: \", np.mean(proposed_module_b1_error))\n",
    "print(\"mean beta2 error: \", np.mean(proposed_module_b2_error))\n",
    "print(\"beta0 errors sd: \", np.std(proposed_module_b0_error))\n",
    "print(\"beta1 errors sd: \", np.std(proposed_module_b1_error))\n",
    "print(\"beta2 errors sd: \", np.std(proposed_module_b2_error))"
   ]
  },
  {
   "cell_type": "code",
   "execution_count": 53,
   "metadata": {},
   "outputs": [
    {
     "name": "stdout",
     "output_type": "stream",
     "text": [
      "mean beta0 stimated:  1.0148137271404267\n",
      "mean beta1 stimated:  1.989585751414299\n",
      "mean beta2 stimated:  2.9970455939769747\n"
     ]
    }
   ],
   "source": [
    "neural_network_b0 = sim_results[:,9]\n",
    "neural_network_b1 = sim_results[:,10]\n",
    "neural_network_b2 = sim_results[:,11]\n",
    "\n",
    "print(\"mean beta0 stimated: \", np.mean(neural_network_b0))\n",
    "print(\"mean beta1 stimated: \", np.mean(neural_network_b1))\n",
    "print(\"mean beta2 stimated: \", np.mean(neural_network_b2))"
   ]
  },
  {
   "cell_type": "code",
   "execution_count": 58,
   "metadata": {},
   "outputs": [
    {
     "name": "stdout",
     "output_type": "stream",
     "text": [
      "mean beta0 error:  0.014813727140426636\n",
      "mean beta1 error:  -0.010414248585700989\n",
      "mean beta2 error:  -0.0029544060230255126\n",
      "beta0 errors sd:  0.07886681435409162\n",
      "beta1 errors sd:  0.06988875041718458\n",
      "beta2 errors sd:  0.014892512011879506\n"
     ]
    }
   ],
   "source": [
    "neural_network_b0_error = neural_network_b0 - 1\n",
    "neural_network_b1_error = neural_network_b1 - 2 \n",
    "neural_network_b2_error = neural_network_b2 - 3\n",
    "\n",
    "print(\"mean beta0 error: \", np.mean(neural_network_b0_error))\n",
    "print(\"mean beta1 error: \", np.mean(neural_network_b1_error))\n",
    "print(\"mean beta2 error: \", np.mean(neural_network_b2_error))\n",
    "print(\"beta0 errors sd: \", np.std(neural_network_b0_error))\n",
    "print(\"beta1 errors sd: \", np.std(neural_network_b1_error))\n",
    "print(\"beta2 errors sd: \", np.std(neural_network_b2_error))"
   ]
  },
  {
   "cell_type": "code",
   "execution_count": 60,
   "metadata": {},
   "outputs": [
    {
     "data": {
      "image/png": "[encoded data removed]",
      "text/plain": [
       "<Figure size 1728x576 with 3 Axes>"
      ]
     },
     "metadata": {
      "needs_background": "light"
     },
     "output_type": "display_data"
    }
   ],
   "source": [
    "fig, (ax1, ax2, ax3) = plt.subplots(1,3, figsize=(24,8))\n",
    "\n",
    "ax1.hist(sklearn_b0_error, label=\"sklearn\", alpha =0.5)\n",
    "ax1.hist(statsmodels_b0_error, label=\"statmodels\", alpha =0.5)\n",
    "ax1.hist(proposed_module_b0_error, label=\"proposed module\", alpha =0.5)\n",
    "ax1.hist(neural_network_b0_error, label=\"neural network\", alpha =0.2)\n",
    "ax1.legend()\n",
    "\n",
    "ax2.hist(sklearn_b1_error, label=\"sklearn\", alpha =0.5)\n",
    "ax2.hist(statsmodels_b1_error, label=\"statmodels\", alpha =0.5)\n",
    "ax2.hist(proposed_module_b1_error, label=\"proposed module\", alpha =0.5)\n",
    "ax2.hist(neural_network_b1_error, label=\"neural network\", alpha =0.2)\n",
    "ax2.legend()\n",
    "\n",
    "ax3.hist(sklearn_b2_error, label=\"sklearn\", alpha =0.5)\n",
    "ax3.hist(statsmodels_b2_error, label=\"statmodels\", alpha =0.5)\n",
    "ax3.hist(proposed_module_b2_error, label=\"proposed module\", alpha =0.5)\n",
    "ax3.hist(neural_network_b2_error, label=\"neural network\", alpha =0.2)\n",
    "ax3.legend()\n",
    "\n",
    "plt.show()"
   ]
  }
 ],
 "metadata": {
  "kernelspec": {
   "display_name": "tensorflow_3.9",
   "language": "python",
   "name": "tensorflow_3.9"
  },
  "language_info": {
   "codemirror_mode": {
    "name": "ipython",
    "version": 3
   },
   "file_extension": ".py",
   "mimetype": "text/x-python",
   "name": "python",
   "nbconvert_exporter": "python",
   "pygments_lexer": "ipython3",
   "version": "3.9.12"
  },
  "orig_nbformat": 4
 },
 "nbformat": 4,
 "nbformat_minor": 2
}
